{
 "cells": [
  {
   "cell_type": "code",
   "execution_count": 2,
   "metadata": {
    "collapsed": false
   },
   "outputs": [],
   "source": [
    "import pandas as pd\n",
    "data1 = pd.read_csv(\"Mayuka_output_120217.csv\",\n",
    "                         keep_default_na=False, na_values=[\"\"])\n",
    "\n",
    "data2 = pd.read_csv(\"Mayuka_output2_120217.csv\",\n",
    "                         keep_default_na=False, na_values=[\"\"])\n",
    "\n",
    "data3 = pd.read_csv(\"Mayuka_output3_120217.csv\",\n",
    "                         keep_default_na=False, na_values=[\"\"])\n",
    "\n",
    "data4 = pd.read_csv(\"Mayuka_output4_120217.csv\",\n",
    "                         keep_default_na=False, na_values=[\"\"])\n",
    "\n",
    "data5 = pd.read_csv(\"Mayuka_output5_120217.csv\",\n",
    "                         keep_default_na=False, na_values=[\"\"])\n",
    "data6 = pd.read_csv(\"Mayuka_output1_120317.csv\",\n",
    "                         keep_default_na=False, na_values=[\"\"])\n",
    "data7 = pd.read_csv(\"Mayuka_output2_120317.csv\",\n",
    "                         keep_default_na=False, na_values=[\"\"])\n",
    "data_agg = pd.concat([data2, data3])\n",
    "data_agg = pd.concat([data_agg, data4])\n",
    "data_agg = pd.concat([data_agg, data5])\n",
    "data_agg = pd.concat([data_agg, data6])\n",
    "data_agg = pd.concat([data_agg, data7])\n",
    "data_agg.to_csv(path_or_buf=\"aggregatefile_pandas.csv\")"
   ]
  },
  {
   "cell_type": "code",
   "execution_count": 32,
   "metadata": {
    "collapsed": false
   },
   "outputs": [],
   "source": [
    "from ast import literal_eval\n",
    "dataFromFile = {}\n",
    "addresses = []\n",
    "complaint_history = pd.read_csv(\"aggregatecounts_311complaints.csv\", keep_default_na=False, na_values=[\"\"])\n",
    "with open(\"aggregatefile_pandas.csv\", \"r\") as f:\n",
    "    next(f)\n",
    "    for line in f:\n",
    "        key = literal_eval(line[line.find(\"(\"):line.find(\")\")+1])\n",
    "        addresses.append(key)\n",
    "        value = literal_eval(line[line.find(\")\")+1:])\n",
    "        \n",
    "        #add feature for number of 311 complaints: (buggy??)\n",
    "        complaint_feature = 0\n",
    "        if complaint_history[\"incident_address\"].str.contains(key[0]).all():\n",
    "            complaint_feature = complaint_history['count'].where(complaint_history['incident_address'] == key[0])\n",
    "        value.append(complaint_feature)\n",
    "        \n",
    "        dataFromFile[key] = value"
   ]
  },
  {
   "cell_type": "code",
   "execution_count": 33,
   "metadata": {
    "collapsed": false
   },
   "outputs": [
    {
     "name": "stdout",
     "output_type": "stream",
     "text": [
      "[6.0, 40.645540000000004, -73.99869, 2016, 1931, 1916, 4336, 20000403, 460000, 1491041, 20171130, 32915, 1789249, 1789249, 11232.0]\n",
      "[1.0, 40.61745, -73.98947, 2016, 1930, 2667, 2600, 20121211, 800000, 1422270, 20171130, -38433, 1521829, 1521829, 11204.0]\n",
      "[1.0, 40.677665000000005, -73.862635, 2016, 1925, 2383, 2312, 20041214, 510000, 656934, 20171130, 3002, 689781, 689781, 11208.0]\n",
      "[6.0, 40.637229999999995, -73.90092, 2016, 1950, 2244, 2838, 20130607, 427450, 660945, 20171130, 2221, 693992, 693992, 11236.0]\n",
      "[2.0, 40.883905, -73.86456, 2016, 2006, 1215, 2670, 20070927, 685000, 604218, 20171130, -4958, 652555, 652555, 10467.0]\n",
      "[6.0, 40.54347, -74.166013, 2016, 2002, 2891, 2050, 20130926, 425000, 611989, 20171130, -2414, 648708, 648708, 10312.0]\n",
      "[6.0, 40.676495, -73.90858, 2016, 1910, 1350, 2675, 20070119, 670000, 985714, 20171130, -21235, 1064571, 1064571, 11233.0]\n",
      "[1.0, 40.64127, -73.91296, 2016, 1960, 2262, 1800, 20061017, 545000, 541537, 20171130, 2610, 568614, 568614, 11236.0]\n",
      "[2.0, 40.643905, -73.94811899999999, 2016, 1910, 3600, 2240, 19970822, 250000, 943849, 20171130, -2124, 1019357, 1019357, 11226.0]\n",
      "[6.0, 40.881995, -73.858634, 2016, 2008, 2874, 2052, 20060118, 275000, 666018, 20171130, -1509, 739280, 739280, 10467.0]\n",
      "[4.0, 40.600965, -73.95132, 2016, 2017, 5500, 1116, 20150318, 990000, 729703, 20171130, -5703, 1459406, 1459406, 11229.0]\n",
      "[1.0, 40.608534999999996, -74.01333000000001, 2016, 1920, 1933, 1410, 19921016, 150000, 829323, 20171130, 2096, 879082, 879082, 11228.0]\n"
     ]
    }
   ],
   "source": [
    "limit = 0\n",
    "for i in dataFromFile:\n",
    "    print (dataFromFile[i])\n",
    "    if limit > 10: break\n",
    "    limit += 1"
   ]
  },
  {
   "cell_type": "code",
   "execution_count": 34,
   "metadata": {
    "collapsed": false
   },
   "outputs": [],
   "source": [
    "#Partition X and Y\n",
    "xData = []\n",
    "yData = []\n",
    "labels = ['home_type', 'latitude', 'longitude', 'tax_year','year_built','property_size', 'home_size', 'last_sold_date', 'last_sold_price', 'zestimate_amount', 'zestimate_last_updated', 'zestimate_value_change', 'zestimate_valuation_range_low', 'zestimate_valuation_range_high']\n",
    "for key in dataFromFile:\n",
    "    featuresAndLabel = list(key) + dataFromFile[key]\n",
    "    xData.append(featuresAndLabel[:-7] + featuresAndLabel[-6:])\n",
    "    yData.append(int(featuresAndLabel[-7]))"
   ]
  },
  {
   "cell_type": "code",
   "execution_count": 35,
   "metadata": {
    "collapsed": true
   },
   "outputs": [],
   "source": [
    "#Remove Address and State\n",
    "newXData = []\n",
    "for x in xData:\n",
    "    newDp = x[2:]\n",
    "    newXData.append(newDp)\n",
    "xData = newXData"
   ]
  },
  {
   "cell_type": "code",
   "execution_count": 36,
   "metadata": {
    "collapsed": true
   },
   "outputs": [],
   "source": [
    "import numpy as np\n",
    "from sklearn.model_selection import KFold\n",
    "X = np.array(xData)\n",
    "y = np.array(yData)\n",
    "kf = KFold(n_splits=4)\n",
    "kf.get_n_splits(X)\n",
    "KFold(n_splits=2, random_state=None, shuffle=False)\n",
    "for train_index, test_index in kf.split(X):\n",
    "    X_train, X_test = X[train_index], X[test_index]\n",
    "    y_train, y_test = y[train_index], y[test_index]"
   ]
  },
  {
   "cell_type": "code",
   "execution_count": 37,
   "metadata": {
    "collapsed": true
   },
   "outputs": [],
   "source": [
    "def RMSD(predVals, trueVals):\n",
    "    sum = 0\n",
    "    for i in range(len(trueVals)):\n",
    "        sum += (trueVals[i] - predVals[i])**2\n",
    "    return sum**0.5"
   ]
  },
  {
   "cell_type": "code",
   "execution_count": 38,
   "metadata": {
    "collapsed": true
   },
   "outputs": [],
   "source": [
    "#Calculate R-squared\n",
    "\n",
    "def avg(trueVals):\n",
    "    sum = 0\n",
    "    for i in range(len(trueVals)):\n",
    "        sum+= trueVals[i]\n",
    "    return sum/(len(trueVals)*1.0)\n",
    "\n",
    "def rsquared(predVals, trueVals):\n",
    "    SSE = 0\n",
    "    TSS = 0\n",
    "    avgVal = avg(trueVals)\n",
    "    for i in range(len(trueVals)):\n",
    "        SSE += (trueVals[i] - predVals[i])**2\n",
    "        TSS += (trueVals[i] - avgVal)**2\n",
    "    return 1 - (SSE/TSS)\n",
    "    "
   ]
  },
  {
   "cell_type": "code",
   "execution_count": 39,
   "metadata": {
    "collapsed": true
   },
   "outputs": [],
   "source": [
    "def MPE(predVals, trueVals):\n",
    "    err = 0\n",
    "    for i in range(len(trueVals)):\n",
    "        err += abs((trueVals[i] - predVals[i])/trueVals[i])\n",
    "    return err/(len(trueVals)*1.0)"
   ]
  },
  {
   "cell_type": "code",
   "execution_count": 40,
   "metadata": {
    "collapsed": false
   },
   "outputs": [
    {
     "name": "stdout",
     "output_type": "stream",
     "text": [
      "16166.1344016\n",
      "[ -3.04943822e+04  -1.81071142e+06   1.77165644e+06  -7.48560973e+04\n",
      "   2.59027886e+03  -7.04903505e-05  -7.40980211e+00   2.72105110e+00\n",
      "  -8.14044946e-01  -2.21317878e+02  -3.85553256e+00   6.46675046e-01\n",
      "   6.46900361e-01  -3.75125907e+02]\n",
      "0.3122881426\n",
      "296\n"
     ]
    }
   ],
   "source": [
    "from sklearn import linear_model\n",
    "linear_model = linear_model.LinearRegression()\n",
    "linear_model.fit(X_train, y_train)\n",
    "print (RMSD(linear_model.predict(xData), yData)/(len(yData)))\n",
    "print(linear_model.coef_)\n",
    "print (rsquared(linear_model.predict(X_test), y_test))\n",
    "print(len(X_test))\n",
    "#with open(\"ouputs.txt\", \"w\") as f:\n",
    "    #outputs = linear_model.predict(xData)\n",
    "    #for i in range(len(addresses)-1):\n",
    "        #f.write(str(addresses[i]) + \"\\t\" + str(outputs[i])+\"\\n\")"
   ]
  },
  {
   "cell_type": "code",
   "execution_count": 42,
   "metadata": {
    "collapsed": false
   },
   "outputs": [
    {
     "name": "stdout",
     "output_type": "stream",
     "text": [
      "16166.1338525\n",
      "0.76974326972\n"
     ]
    },
    {
     "name": "stderr",
     "output_type": "stream",
     "text": [
      "/anaconda/lib/python3.6/site-packages/sklearn/linear_model/coordinate_descent.py:484: ConvergenceWarning: Objective did not converge. You might want to increase the number of iterations. Fitting data with very small alpha may cause precision problems.\n",
      "  ConvergenceWarning)\n"
     ]
    },
    {
     "ename": "NameError",
     "evalue": "name 'x_Test' is not defined",
     "output_type": "error",
     "traceback": [
      "\u001b[0;31m---------------------------------------------------------------------------\u001b[0m",
      "\u001b[0;31mNameError\u001b[0m                                 Traceback (most recent call last)",
      "\u001b[0;32m<ipython-input-42-da81d7f3e7af>\u001b[0m in \u001b[0;36m<module>\u001b[0;34m()\u001b[0m\n\u001b[1;32m      4\u001b[0m \u001b[0mprint\u001b[0m \u001b[0;34m(\u001b[0m\u001b[0mRMSD\u001b[0m\u001b[0;34m(\u001b[0m\u001b[0mlasso_model\u001b[0m\u001b[0;34m.\u001b[0m\u001b[0mpredict\u001b[0m\u001b[0;34m(\u001b[0m\u001b[0mxData\u001b[0m\u001b[0;34m)\u001b[0m\u001b[0;34m,\u001b[0m \u001b[0myData\u001b[0m\u001b[0;34m)\u001b[0m\u001b[0;34m/\u001b[0m\u001b[0;34m(\u001b[0m\u001b[0mlen\u001b[0m\u001b[0;34m(\u001b[0m\u001b[0myData\u001b[0m\u001b[0;34m)\u001b[0m\u001b[0;34m)\u001b[0m\u001b[0;34m)\u001b[0m\u001b[0;34m\u001b[0m\u001b[0m\n\u001b[1;32m      5\u001b[0m \u001b[0mprint\u001b[0m \u001b[0;34m(\u001b[0m\u001b[0mrsquared\u001b[0m\u001b[0;34m(\u001b[0m\u001b[0mlasso_model\u001b[0m\u001b[0;34m.\u001b[0m\u001b[0mpredict\u001b[0m\u001b[0;34m(\u001b[0m\u001b[0mxData\u001b[0m\u001b[0;34m)\u001b[0m\u001b[0;34m,\u001b[0m \u001b[0myData\u001b[0m\u001b[0;34m)\u001b[0m\u001b[0;34m)\u001b[0m\u001b[0;34m\u001b[0m\u001b[0m\n\u001b[0;32m----> 6\u001b[0;31m \u001b[0mprint\u001b[0m\u001b[0;34m(\u001b[0m\u001b[0mMPE\u001b[0m\u001b[0;34m(\u001b[0m\u001b[0mlasso_model\u001b[0m\u001b[0;34m.\u001b[0m\u001b[0mpredict\u001b[0m\u001b[0;34m(\u001b[0m\u001b[0mx_Test\u001b[0m\u001b[0;34m)\u001b[0m\u001b[0;34m,\u001b[0m \u001b[0my_Test\u001b[0m\u001b[0;34m)\u001b[0m\u001b[0;34m)\u001b[0m\u001b[0;34m\u001b[0m\u001b[0m\n\u001b[0m\u001b[1;32m      7\u001b[0m \u001b[0mprint\u001b[0m\u001b[0;34m(\u001b[0m\u001b[0mlasso_model\u001b[0m\u001b[0;34m.\u001b[0m\u001b[0mcoef_\u001b[0m\u001b[0;34m)\u001b[0m\u001b[0;34m\u001b[0m\u001b[0m\n",
      "\u001b[0;31mNameError\u001b[0m: name 'x_Test' is not defined"
     ]
    }
   ],
   "source": [
    "from sklearn import linear_model\n",
    "lasso_model = linear_model.Lasso(alpha = 0.1)\n",
    "lasso_model.fit(X_train, y_train)\n",
    "print (RMSD(lasso_model.predict(xData), yData)/(len(yData)))\n",
    "print (rsquared(lasso_model.predict(xData), yData))\n",
    "print(MPE(lasso_model.predict(x_Test), y_Test))\n",
    "print(lasso_model.coef_)"
   ]
  },
  {
   "cell_type": "code",
   "execution_count": 44,
   "metadata": {
    "collapsed": false
   },
   "outputs": [
    {
     "name": "stdout",
     "output_type": "stream",
     "text": [
      "[ -2.56588327e+04  -3.76186026e+03   2.44846683e+03  -6.09977676e+02\n",
      "   3.08753566e+03   6.45764231e-04  -1.05982403e+01   2.69943608e+00\n",
      "  -9.32421232e-01  -3.20472407e+02  -3.76789494e+00   1.37961640e+00\n",
      "   3.02326280e-10  -7.08426066e+01]\n",
      "16328.0133752\n",
      "0.275433812973\n"
     ]
    },
    {
     "name": "stderr",
     "output_type": "stream",
     "text": [
      "/anaconda/lib/python3.6/site-packages/sklearn/linear_model/coordinate_descent.py:484: ConvergenceWarning: Objective did not converge. You might want to increase the number of iterations. Fitting data with very small alpha may cause precision problems.\n",
      "  ConvergenceWarning)\n"
     ]
    }
   ],
   "source": [
    "from sklearn import linear_model\n",
    "elastic_model = linear_model.ElasticNet()\n",
    "elastic_model.fit(X_train, y_train)\n",
    "print(elastic_model.coef_)\n",
    "print (RMSD(elastic_model.predict(xData), yData)/(len(yData)))\n",
    "print (rsquared(elastic_model.predict(X_test), y_test))"
   ]
  },
  {
   "cell_type": "code",
   "execution_count": null,
   "metadata": {
    "collapsed": false
   },
   "outputs": [],
   "source": [
    "from sklearn import linear_model\n",
    "ridge_model = linear_model.BayesianRidge()\n",
    "ridge_model.fit(X_train, y_train)\n",
    "print (RMSD(ridge_model.predict(xData), yData)/(len(yData)))\n",
    "print (rsquared(ridge_model.predict(X_test), y_test))\n",
    "print(ridge_model.coef_)"
   ]
  },
  {
   "cell_type": "code",
   "execution_count": null,
   "metadata": {
    "collapsed": true
   },
   "outputs": [],
   "source": [
    "#print lasso_model.coef_"
   ]
  },
  {
   "cell_type": "code",
   "execution_count": null,
   "metadata": {
    "collapsed": false
   },
   "outputs": [],
   "source": [
    "from sklearn import linear_model\n",
    "lasso_model = linear_model.Lasso(alpha = 0.1)\n",
    "lasso_model.fit(X_train, y_train)\n",
    "def getPredictions(testPoints, regressionType, xData, yData):\n",
    "    print (lasso_model.predict([xData[0],xData[2],xData[3],xData[4],xData[5]]))"
   ]
  },
  {
   "cell_type": "code",
   "execution_count": null,
   "metadata": {
    "collapsed": false
   },
   "outputs": [],
   "source": [
    "testPoints = [\n",
    "    ('1635 MONTGOMERY AVE', 'New York'),\n",
    "    ('1721 MAHAN AVE', 'New York'),\n",
    "    ('931 BURKE AVE', 'New York'),\n",
    "    ('1256 STRATFORD AVE', 'New York'),\n",
    "    ('1774 EDENWALD AVE', 'New York')\n",
    "]\n",
    "getPredictions(testPoints, 'lasso', X_train, y_train)"
   ]
  },
  {
   "cell_type": "code",
   "execution_count": null,
   "metadata": {
    "collapsed": true
   },
   "outputs": [],
   "source": []
  }
 ],
 "metadata": {
  "kernelspec": {
   "display_name": "Python 3",
   "language": "python",
   "name": "python3"
  },
  "language_info": {
   "codemirror_mode": {
    "name": "ipython",
    "version": 3
   },
   "file_extension": ".py",
   "mimetype": "text/x-python",
   "name": "python",
   "nbconvert_exporter": "python",
   "pygments_lexer": "ipython3",
   "version": "3.6.0"
  }
 },
 "nbformat": 4,
 "nbformat_minor": 2
}
