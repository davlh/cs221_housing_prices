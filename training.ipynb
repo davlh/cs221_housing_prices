{
 "cells": [
  {
   "cell_type": "code",
   "execution_count": 2,
   "metadata": {},
   "outputs": [],
   "source": [
    "from ast import literal_eval\n",
    "dataFromFile = {}\n",
    "addresses = []\n",
    "with open(\"inputData/ourData3.txt\", \"r\") as f:\n",
    "    for line in f:\n",
    "        key = literal_eval(line[:line.find(\")\")+1])\n",
    "        addresses.append(key)\n",
    "        value = literal_eval(line[line.find(\")\")+1:])\n",
    "        dataFromFile[key] = value"
   ]
  },
  {
   "cell_type": "code",
   "execution_count": 134,
   "metadata": {},
   "outputs": [
    {
     "name": "stdout",
     "output_type": "stream",
     "text": [
      "['Duplex', '40.848794', '-73.920395', '2016', '1993', '2000', '2640', '11/01/2005', '385000', '527411', '11/14/2017', '13574', '564330', '564330', '0', '10453']\n",
      "['SingleFamily', '40.834695', '-73.86712', '2016', '1928', '2439', '2400', '11/14/2007', '600000', '507220', '11/14/2017', '8732', '547798', '547798', '0', '10472']\n",
      "['Duplex', '40.846745', '-73.82921', '2016', '1925', '3300', '2300', '03/22/2005', '545500', '539127', '11/14/2017', '-407', '566083', '566083', '0', '10461']\n",
      "['Quadruplex', '40.871585', '-73.859794', '2016', '1920', '5000', '2149', '03/14/2010', '475000', '491510', '11/14/2017', '-14008', '525916', '525916', '0', '10469']\n",
      "['Quadruplex', '40.831064', '-73.87563', '2016', '1927', '2500', '3321', '03/09/2012', '750000', '640223', '11/14/2017', '3056', '678636', '678636', '0', '10472']\n",
      "['Triplex', '40.8915', '-73.84869', '2016', '1930', '2500', '2310', '01/04/2000', '270000', '567947', '11/14/2017', '-637', '607703', '607703', '0', '10466']\n",
      "['MultiFamily2To4', '40.847055', '-73.86514', '2016', '1910', '3000', '2240', '08/28/2013', '500000', '587368', '11/14/2017', '-11390', '616736', '616736', '0', '10462']\n",
      "['Quadruplex', '40.827614', '-73.8705', '2016', '1927', '2500', '3280', '05/11/2005', '475000', '659844', '11/14/2017', '14308', '692836', '692836', '0', '10472']\n",
      "['Condominium', '40.578177', '-74.158655', '2016', '1978', '366749', '1242', '08/08/1997', '117500', '362394', '11/14/2017', '392', '380514', '380514', '0', '10314']\n",
      "['SingleFamily', '40.594841', '-73.773162', '2016', '2006', '4794', '1332', '08/09/2006', '335629', '359256', '11/14/2017', '-19305', '416737', '416737', '0', '11691']\n",
      "['SingleFamily', '40.999114', '-72.280992', '2016', '1940', '40075', '2726', '06/06/2017', '2020000', '2080936', '11/14/2017', '32979', '2184983', '2184983', '0', '10464']\n",
      "['SingleFamily', '40.576645', '-74.083685', '2016', '1992', '1440', '1600', '07/27/2016', '395270', '467758', '11/14/2017', '17079', '495823', '495823', '0', '10305']\n"
     ]
    }
   ],
   "source": [
    "limit = 0\n",
    "for i in dataFromFile:\n",
    "    print dataFromFile[i]\n",
    "    if limit > 10: break\n",
    "    limit += 1"
   ]
  },
  {
   "cell_type": "code",
   "execution_count": 118,
   "metadata": {},
   "outputs": [],
   "source": [
    "#Partition X and Y\n",
    "xData = []\n",
    "yData = []\n",
    "for key in dataFromFile:\n",
    "    featuresAndLabel = list(key) + dataFromFile[key]\n",
    "    xData.append(featuresAndLabel[:-7] + featuresAndLabel[-6:])\n",
    "    yData.append(int(featuresAndLabel[-7]))"
   ]
  },
  {
   "cell_type": "code",
   "execution_count": 119,
   "metadata": {},
   "outputs": [],
   "source": [
    "#Remove Address and State\n",
    "newXData = []\n",
    "for x in xData:\n",
    "    newDp = x[2:]\n",
    "    newXData.append(newDp)\n",
    "xData = newXData"
   ]
  },
  {
   "cell_type": "code",
   "execution_count": 122,
   "metadata": {},
   "outputs": [],
   "source": [
    "import numpy as np\n",
    "from sklearn.model_selection import KFold\n",
    "X = np.array(xData)\n",
    "y = np.array(yData)\n",
    "kf = KFold(n_splits=4)\n",
    "kf.get_n_splits(X)\n",
    "KFold(n_splits=2, random_state=None, shuffle=False)\n",
    "for train_index, test_index in kf.split(X):\n",
    "    X_train, X_test = X[train_index], X[test_index]\n",
    "    y_train, y_test = y[train_index], y[test_index]"
   ]
  },
  {
   "cell_type": "code",
   "execution_count": 123,
   "metadata": {},
   "outputs": [],
   "source": [
    "def RMSD(predVals, trueVals):\n",
    "    sum = 0\n",
    "    for i in range(len(trueVals)):\n",
    "        sum += (trueVals[i] - predVals[i])**2\n",
    "    return sum**0.5"
   ]
  },
  {
   "cell_type": "code",
   "execution_count": 157,
   "metadata": {},
   "outputs": [
    {
     "name": "stdout",
     "output_type": "stream",
     "text": [
      "4683.93471781\n"
     ]
    }
   ],
   "source": [
    "from sklearn import linear_model\n",
    "linear_model = linear_model.LinearRegression()\n",
    "linear_model.fit(X_train, y_train)\n",
    "print RMSD(linear_model.predict(xData), yData)/(len(yData))\n",
    "\n",
    "with open(\"ouputs.txt\", \"w\") as f:\n",
    "    outputs = linear_model.predict(xData)\n",
    "    for i in range(len(addresses)):\n",
    "        f.write(str(addresses[i]) + \"\\t\" + str(outputs[i])+\"\\n\")"
   ]
  },
  {
   "cell_type": "code",
   "execution_count": 125,
   "metadata": {},
   "outputs": [
    {
     "name": "stdout",
     "output_type": "stream",
     "text": [
      "4683.93302221\n"
     ]
    }
   ],
   "source": [
    "from sklearn import linear_model\n",
    "lasso_model = linear_model.Lasso(alpha = 0.1)\n",
    "lasso_model.fit(X_train, y_train)\n",
    "print RMSD(lasso_model.predict(xData), yData)/(len(yData))"
   ]
  },
  {
   "cell_type": "code",
   "execution_count": 126,
   "metadata": {},
   "outputs": [
    {
     "name": "stdout",
     "output_type": "stream",
     "text": [
      "4678.39707971\n"
     ]
    }
   ],
   "source": [
    "from sklearn import linear_model\n",
    "elastic_model = linear_model.ElasticNet()\n",
    "elastic_model.fit(X_train, y_train)\n",
    "print RMSD(elastic_model.predict(xData), yData)/(len(yData))"
   ]
  },
  {
   "cell_type": "code",
   "execution_count": 130,
   "metadata": {},
   "outputs": [
    {
     "name": "stdout",
     "output_type": "stream",
     "text": [
      "4736.9427357\n",
      "198\n"
     ]
    }
   ],
   "source": [
    "from sklearn import linear_model\n",
    "ridge_model = linear_model.BayesianRidge()\n",
    "ridge_model.fit(X_train, y_train)\n",
    "print RMSD(ridge_model.predict(xData), yData)/(len(yData))"
   ]
  },
  {
   "cell_type": "code",
   "execution_count": 128,
   "metadata": {},
   "outputs": [],
   "source": [
    "#print lasso_model.coef_"
   ]
  },
  {
   "cell_type": "code",
   "execution_count": 141,
   "metadata": {},
   "outputs": [],
   "source": [
    "from sklearn import linear_model\n",
    "lasso_model = linear_model.Lasso(alpha = 0.1)\n",
    "lasso_model.fit(X_train, y_train)\n",
    "def getPredictions(testPoints, regressionType, xData, yData):\n",
    "    print lasso_model.predict([xData[0],xData[2],xData[3],xData[4],xData[5]])"
   ]
  },
  {
   "cell_type": "code",
   "execution_count": 149,
   "metadata": {},
   "outputs": [
    {
     "name": "stdout",
     "output_type": "stream",
     "text": [
      "[ 543000.18840265  541543.66917074  514691.65774091  655837.99030106\n",
      "  566694.64984344]\n"
     ]
    }
   ],
   "source": [
    "testPoints = [\n",
    "    ('1635 MONTGOMERY AVE', 'New York'),\n",
    "    ('1721 MAHAN AVE', 'New York'),\n",
    "    ('931 BURKE AVE', 'New York'),\n",
    "    ('1256 STRATFORD AVE', 'New York'),\n",
    "    ('1774 EDENWALD AVE', 'New York')\n",
    "]\n",
    "getPredictions(testPoints, 'lasso', X_train, y_train)"
   ]
  },
  {
   "cell_type": "code",
   "execution_count": null,
   "metadata": {},
   "outputs": [],
   "source": []
  }
 ],
 "metadata": {
  "kernelspec": {
   "display_name": "Python 2",
   "language": "python",
   "name": "python2"
  },
  "language_info": {
   "codemirror_mode": {
    "name": "ipython",
    "version": 2
   },
   "file_extension": ".py",
   "mimetype": "text/x-python",
   "name": "python",
   "nbconvert_exporter": "python",
   "pygments_lexer": "ipython2",
   "version": "2.7.13"
  }
 },
 "nbformat": 4,
 "nbformat_minor": 2
}
